{
 "cells": [
  {
   "cell_type": "code",
   "execution_count": 1,
   "id": "b7123fab",
   "metadata": {},
   "outputs": [],
   "source": [
    "from accounts.functions import *"
   ]
  },
  {
   "cell_type": "code",
   "execution_count": 2,
   "id": "f8a24657",
   "metadata": {},
   "outputs": [
    {
     "data": {
      "text/plain": [
       "<Proxy: Proxy object (623)>"
      ]
     },
     "execution_count": 2,
     "metadata": {},
     "output_type": "execute_result"
    }
   ],
   "source": [
    "get_free_proxy()"
   ]
  },
  {
   "cell_type": "code",
   "execution_count": null,
   "id": "6d1bbab3",
   "metadata": {},
   "outputs": [],
   "source": []
  }
 ],
 "metadata": {
  "kernelspec": {
   "display_name": "Django Shell-Plus",
   "language": "python",
   "name": "django_extensions"
  },
  "language_info": {
   "codemirror_mode": {
    "name": "ipython",
    "version": 3
   },
   "file_extension": ".py",
   "mimetype": "text/x-python",
   "name": "python",
   "nbconvert_exporter": "python",
   "pygments_lexer": "ipython3",
   "version": "3.8.12"
  }
 },
 "nbformat": 4,
 "nbformat_minor": 5
}
